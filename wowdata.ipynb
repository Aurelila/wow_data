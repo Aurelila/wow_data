{
 "metadata": {
  "language_info": {
   "codemirror_mode": {
    "name": "ipython",
    "version": 3
   },
   "file_extension": ".py",
   "mimetype": "text/x-python",
   "name": "python",
   "nbconvert_exporter": "python",
   "pygments_lexer": "ipython3",
   "version": "3.8.5"
  },
  "orig_nbformat": 2,
  "kernelspec": {
   "name": "python385jvsc74a57bd052eb3119f2aceb6e77f011da63a28250c9ff17ed8dab3746d86544f51af796e4",
   "display_name": "Python 3.8.5 64-bit ('base': conda)"
  }
 },
 "nbformat": 4,
 "nbformat_minor": 2,
 "cells": [
  {
   "source": [
    "import pandas as pd\n",
    "import matplotlib.pyplot as plt\n",
    "import seaborn as sns\n",
    "from scipy import stats\n",
    "from statsmodels.stats.multicomp import pairwise_tukeyhsd\n",
    "import matplotlib.colors as mcolors\n",
    "\n",
    "# Read in the dataset:\n",
    "wowah1 = pd.read_csv('wowah_data.csv')\n",
    "\n",
    "# Check out the data info:\n",
    "wowah1.info()\n",
    "\n",
    "# Check out the head:\n",
    "wowah1.head()\n",
    "\n",
    "# Check out the tail:\n",
    "wowah1.tail()"
   ],
   "cell_type": "code",
   "metadata": {},
   "execution_count": 4,
   "outputs": [
    {
     "output_type": "stream",
     "name": "stdout",
     "text": [
      "<class 'pandas.core.frame.DataFrame'>\nRangeIndex: 10826734 entries, 0 to 10826733\nData columns (total 7 columns):\n #   Column      Dtype \n---  ------      ----- \n 0   char        int64 \n 1    level      int64 \n 2    race       object\n 3    charclass  object\n 4    zone       object\n 5    guild      int64 \n 6    timestamp  object\ndtypes: int64(3), object(4)\nmemory usage: 578.2+ MB\n"
     ]
    },
    {
     "output_type": "execute_result",
     "data": {
      "text/plain": [
       "           char   level       race     charclass                zone   guild  \\\n",
       "10826729  86766      80  Blood Elf  Death Knight  Halls of Lightning     101   \n",
       "10826730  86497      77  Blood Elf  Death Knight     The Storm Peaks     358   \n",
       "10826731  34893      80  Blood Elf  Death Knight     The Storm Peaks     189   \n",
       "10826732  86881      80  Blood Elf  Death Knight        Dragonblight     478   \n",
       "10826733  86457      80  Blood Elf  Death Knight        Dragonblight     204   \n",
       "\n",
       "                  timestamp  \n",
       "10826729  12/31/08 23:50:18  \n",
       "10826730  12/31/08 23:50:18  \n",
       "10826731  12/31/08 23:50:18  \n",
       "10826732  12/31/08 23:50:18  \n",
       "10826733  12/31/08 23:50:18  "
      ],
      "text/html": "<div>\n<style scoped>\n    .dataframe tbody tr th:only-of-type {\n        vertical-align: middle;\n    }\n\n    .dataframe tbody tr th {\n        vertical-align: top;\n    }\n\n    .dataframe thead th {\n        text-align: right;\n    }\n</style>\n<table border=\"1\" class=\"dataframe\">\n  <thead>\n    <tr style=\"text-align: right;\">\n      <th></th>\n      <th>char</th>\n      <th>level</th>\n      <th>race</th>\n      <th>charclass</th>\n      <th>zone</th>\n      <th>guild</th>\n      <th>timestamp</th>\n    </tr>\n  </thead>\n  <tbody>\n    <tr>\n      <th>10826729</th>\n      <td>86766</td>\n      <td>80</td>\n      <td>Blood Elf</td>\n      <td>Death Knight</td>\n      <td>Halls of Lightning</td>\n      <td>101</td>\n      <td>12/31/08 23:50:18</td>\n    </tr>\n    <tr>\n      <th>10826730</th>\n      <td>86497</td>\n      <td>77</td>\n      <td>Blood Elf</td>\n      <td>Death Knight</td>\n      <td>The Storm Peaks</td>\n      <td>358</td>\n      <td>12/31/08 23:50:18</td>\n    </tr>\n    <tr>\n      <th>10826731</th>\n      <td>34893</td>\n      <td>80</td>\n      <td>Blood Elf</td>\n      <td>Death Knight</td>\n      <td>The Storm Peaks</td>\n      <td>189</td>\n      <td>12/31/08 23:50:18</td>\n    </tr>\n    <tr>\n      <th>10826732</th>\n      <td>86881</td>\n      <td>80</td>\n      <td>Blood Elf</td>\n      <td>Death Knight</td>\n      <td>Dragonblight</td>\n      <td>478</td>\n      <td>12/31/08 23:50:18</td>\n    </tr>\n    <tr>\n      <th>10826733</th>\n      <td>86457</td>\n      <td>80</td>\n      <td>Blood Elf</td>\n      <td>Death Knight</td>\n      <td>Dragonblight</td>\n      <td>204</td>\n      <td>12/31/08 23:50:18</td>\n    </tr>\n  </tbody>\n</table>\n</div>"
     },
     "metadata": {},
     "execution_count": 4
    }
   ]
  },
  {
   "cell_type": "code",
   "execution_count": null,
   "metadata": {},
   "outputs": [],
   "source": []
  }
 ]
}