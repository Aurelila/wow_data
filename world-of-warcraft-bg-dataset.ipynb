{
 "cells": [
  {
   "cell_type": "raw",
   "id": "3e4c8c47",
   "metadata": {
    "_cell_guid": "b1076dfc-b9ad-4769-8c92-a6c4dae69d19",
    "_uuid": "8f2839f25d086af736a60e9eeb907d3b93b6e0e5",
    "papermill": {
     "duration": 0.005507,
     "end_time": "2022-12-07T21:30:55.460566",
     "exception": false,
     "start_time": "2022-12-07T21:30:55.455059",
     "status": "completed"
    },
    "tags": []
   },
   "source": [
    "# This Python 3 environment comes with many helpful analytics libraries installed\n",
    "# It is defined by the kaggle/python Docker image: https://github.com/kaggle/docker-python\n",
    "# For example, here's several helpful packages to load\n",
    "\n",
    "import numpy as np # linear algebra\n",
    "import pandas as pd # data processing, CSV file I/O (e.g. pd.read_csv)\n",
    "\n",
    "# Input data files are available in the read-only \"../input/\" directory\n",
    "# For example, running this (by clicking run or pressing Shift+Enter) will list all files under the input directory\n",
    "\n",
    "import os\n",
    "for dirname, _, filenames in os.walk('/kaggle/input'):\n",
    "    for filename in filenames:\n",
    "        print(os.path.join(dirname, filename))\n",
    "\n",
    "# You can write up to 20GB to the current directory (/kaggle/working/) that gets preserved as output when you create a version using \"Save & Run All\" \n",
    "# You can also write temporary files to /kaggle/temp/, but they won't be saved outside of the current session"
   ]
  },
  {
   "cell_type": "code",
   "execution_count": 1,
   "id": "2b26124e",
   "metadata": {
    "execution": {
     "iopub.execute_input": "2022-12-07T21:30:55.472144Z",
     "iopub.status.busy": "2022-12-07T21:30:55.471277Z",
     "iopub.status.idle": "2022-12-07T21:30:56.420736Z",
     "shell.execute_reply": "2022-12-07T21:30:56.420068Z",
     "shell.execute_reply.started": "2022-12-07T21:24:19.457270Z"
    },
    "papermill": {
     "duration": 0.956081,
     "end_time": "2022-12-07T21:30:56.420870",
     "exception": false,
     "start_time": "2022-12-07T21:30:55.464789",
     "status": "completed"
    },
    "tags": []
   },
   "outputs": [],
   "source": [
    "# Set up the environment for anlysis:\n",
    "import pandas as pd\n",
    "import matplotlib.pyplot as plt\n",
    "import seaborn as sns\n",
    "from scipy import stats\n",
    "from statsmodels.stats.multicomp import pairwise_tukeyhsd\n",
    "import matplotlib.colors as mcolors"
   ]
  },
  {
   "cell_type": "code",
   "execution_count": 2,
   "id": "ad6ecf26",
   "metadata": {
    "execution": {
     "iopub.execute_input": "2022-12-07T21:30:56.432606Z",
     "iopub.status.busy": "2022-12-07T21:30:56.432042Z",
     "iopub.status.idle": "2022-12-07T21:30:56.484503Z",
     "shell.execute_reply": "2022-12-07T21:30:56.484894Z",
     "shell.execute_reply.started": "2022-12-07T21:30:11.407504Z"
    },
    "papermill": {
     "duration": 0.060752,
     "end_time": "2022-12-07T21:30:56.485051",
     "exception": false,
     "start_time": "2022-12-07T21:30:56.424299",
     "status": "completed"
    },
    "tags": []
   },
   "outputs": [
    {
     "name": "stdout",
     "output_type": "stream",
     "text": [
      "<class 'pandas.core.frame.DataFrame'>\n",
      "RangeIndex: 5383 entries, 0 to 5382\n",
      "Data columns (total 14 columns):\n",
      " #   Column        Non-Null Count  Dtype  \n",
      "---  ------        --------------  -----  \n",
      " 0   Battleground  5383 non-null   object \n",
      " 1   Code          5383 non-null   object \n",
      " 2   Faction       5383 non-null   object \n",
      " 3   Class         5383 non-null   object \n",
      " 4   KB            5383 non-null   int64  \n",
      " 5   D             5383 non-null   int64  \n",
      " 6   HK            5383 non-null   int64  \n",
      " 7   DD            5383 non-null   int64  \n",
      " 8   HD            5383 non-null   int64  \n",
      " 9   Honor         5383 non-null   int64  \n",
      " 10  Win           2723 non-null   float64\n",
      " 11  Lose          2660 non-null   float64\n",
      " 12  Rol           5383 non-null   object \n",
      " 13  BE            954 non-null    float64\n",
      "dtypes: float64(3), int64(6), object(5)\n",
      "memory usage: 588.9+ KB\n"
     ]
    }
   ],
   "source": [
    "# Read in the dataset:\n",
    "wowbgs2 = pd.read_csv('/kaggle/input/world-of-warcraft-battlegrounds/wowbgs2.csv')\n",
    "\n",
    "# Check out the data info:\n",
    "wowbgs2.info()"
   ]
  },
  {
   "cell_type": "markdown",
   "id": "eaa2b313",
   "metadata": {
    "papermill": {
     "duration": 0.003294,
     "end_time": "2022-12-07T21:30:56.492147",
     "exception": false,
     "start_time": "2022-12-07T21:30:56.488853",
     "status": "completed"
    },
    "tags": []
   },
   "source": []
  }
 ],
 "metadata": {
  "kernelspec": {
   "display_name": "Python 3",
   "language": "python",
   "name": "python3"
  },
  "language_info": {
   "codemirror_mode": {
    "name": "ipython",
    "version": 3
   },
   "file_extension": ".py",
   "mimetype": "text/x-python",
   "name": "python",
   "nbconvert_exporter": "python",
   "pygments_lexer": "ipython3",
   "version": "3.7.10"
  },
  "papermill": {
   "default_parameters": {},
   "duration": 10.028559,
   "end_time": "2022-12-07T21:30:57.206192",
   "environment_variables": {},
   "exception": null,
   "input_path": "__notebook__.ipynb",
   "output_path": "__notebook__.ipynb",
   "parameters": {},
   "start_time": "2022-12-07T21:30:47.177633",
   "version": "2.3.3"
  }
 },
 "nbformat": 4,
 "nbformat_minor": 5
}
